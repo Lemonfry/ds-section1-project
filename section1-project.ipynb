{
  "nbformat": 4,
  "nbformat_minor": 0,
  "metadata": {
    "colab": {
      "name": "Untitled4.ipynb",
      "provenance": [],
      "authorship_tag": "ABX9TyMz1W/Rzeju/9N7X0EpigRD",
      "include_colab_link": true
    },
    "kernelspec": {
      "name": "python3",
      "display_name": "Python 3"
    },
    "language_info": {
      "name": "python"
    }
  },
  "cells": [
    {
      "cell_type": "markdown",
      "metadata": {
        "id": "view-in-github",
        "colab_type": "text"
      },
      "source": [
        "<a href=\"https://colab.research.google.com/github/Lemonfry/ds-section1-project/blob/main/section1-project.ipynb\" target=\"_parent\"><img src=\"https://colab.research.google.com/assets/colab-badge.svg\" alt=\"Open In Colab\"/></a>"
      ]
    },
    {
      "cell_type": "markdown",
      "metadata": {
        "id": "ARUHhXkdsMAG"
      },
      "source": [
        "게임 개발을 위한 데이터 분석\n",
        "\n",
        "---\n",
        "\n",
        "\n",
        "목표 : 제일 잘 팔리는 게임 만들기\n",
        "\n",
        "가진 데이터 : 무슨 장르의 게임이 어느 년도에 어떤 기종(platform)으로 출시되었으며, 만든 회사는 어디고 북미/유럽/일본/기타 지역에서의 출고 실적(\n",
        "\n",
        "단순하게 생각한다면 가장 많이 팔리는 장르만 확인하여 모든 게임 기종으로 모든 지역에 판매하면 되겠으나, 개발 시간 제한 및 비용의 이유로 인해 그러기는 힘듭니다. \n",
        "\n",
        "그래서 잘 팔리는 게임을 위해선\n",
        "\n",
        "1. 가장 많이 팔리는 장르\n",
        "2. 가장 많이 팔리는 기종\n",
        "3. 가장 많이 팔리는 지역\n",
        "\n",
        "을 확인해야 합니다.\n",
        "\n",
        "(분석을 위해, 출고량이 높으면 판매량도 많다고 생각하겠습니다)"
      ]
    },
    {
      "cell_type": "markdown",
      "metadata": {
        "id": "0_0Mms74ukeH"
      },
      "source": [
        "진행 과정에 따른 설명은 코드를 참조해 주세요\n",
        "1. 데이터 전처리(EDA)"
      ]
    },
    {
      "cell_type": "code",
      "metadata": {
        "id": "Xp5yIjGewAze"
      },
      "source": [
        "# 기종 항목이 누락되어 한칸씩 당겨진 2개의 항목이 있어,(7597번, 16192번) 직접 수정합니다.\n",
        "# 마찬가지로 연도가 네자리가 아닌 경우들도 직접 수정합니다.(14 -> 2014, 99 -> 1999, 0 -> 2000 등)"
      ],
      "execution_count": 1,
      "outputs": []
    },
    {
      "cell_type": "code",
      "metadata": {
        "id": "noXTr27grnXT",
        "colab": {
          "resources": {
            "http://localhost:8080/nbextensions/google.colab/files.js": {
              "data": "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",
              "ok": true,
              "headers": [
                [
                  "content-type",
                  "application/javascript"
                ]
              ],
              "status": 200,
              "status_text": ""
            }
          },
          "base_uri": "https://localhost:8080/",
          "height": 77
        },
        "outputId": "5768cf30-acde-4116-e242-4a24f1026065"
      },
      "source": [
        "# 개인 노트북에 저장한 파일 불러오기\n",
        "from google.colab import files\n",
        "myfile = files.upload()"
      ],
      "execution_count": 2,
      "outputs": [
        {
          "output_type": "display_data",
          "data": {
            "text/html": [
              "\n",
              "     <input type=\"file\" id=\"files-f9f1702d-1b95-4c05-aea7-906d1d2f1416\" name=\"files[]\" multiple disabled\n",
              "        style=\"border:none\" />\n",
              "     <output id=\"result-f9f1702d-1b95-4c05-aea7-906d1d2f1416\">\n",
              "      Upload widget is only available when the cell has been executed in the\n",
              "      current browser session. Please rerun this cell to enable.\n",
              "      </output>\n",
              "      <script src=\"/nbextensions/google.colab/files.js\"></script> "
            ],
            "text/plain": [
              "<IPython.core.display.HTML object>"
            ]
          },
          "metadata": {}
        },
        {
          "output_type": "stream",
          "name": "stdout",
          "text": [
            "Saving vgames2_modified.csv to vgames2_modified.csv\n"
          ]
        }
      ]
    },
    {
      "cell_type": "code",
      "metadata": {
        "id": "CoEB9O_-sLBu"
      },
      "source": [
        "import io\n",
        "import pandas as pd\n",
        "game_data = pd.read_csv(io.BytesIO(myfile['vgames2_modified.csv']))"
      ],
      "execution_count": 3,
      "outputs": []
    },
    {
      "cell_type": "code",
      "metadata": {
        "colab": {
          "base_uri": "https://localhost:8080/",
          "height": 423
        },
        "id": "o9cAOrIhsoBo",
        "outputId": "bb8637f3-9c8f-4810-ffa4-c69c0d24af29"
      },
      "source": [
        "# 데이터셋 확인(잘 불러와졌는지)\n",
        "game_data"
      ],
      "execution_count": 4,
      "outputs": [
        {
          "output_type": "execute_result",
          "data": {
            "text/html": [
              "<div>\n",
              "<style scoped>\n",
              "    .dataframe tbody tr th:only-of-type {\n",
              "        vertical-align: middle;\n",
              "    }\n",
              "\n",
              "    .dataframe tbody tr th {\n",
              "        vertical-align: top;\n",
              "    }\n",
              "\n",
              "    .dataframe thead th {\n",
              "        text-align: right;\n",
              "    }\n",
              "</style>\n",
              "<table border=\"1\" class=\"dataframe\">\n",
              "  <thead>\n",
              "    <tr style=\"text-align: right;\">\n",
              "      <th></th>\n",
              "      <th>Unnamed: 0</th>\n",
              "      <th>Name</th>\n",
              "      <th>Platform</th>\n",
              "      <th>Year</th>\n",
              "      <th>Genre</th>\n",
              "      <th>Publisher</th>\n",
              "      <th>NA_Sales</th>\n",
              "      <th>EU_Sales</th>\n",
              "      <th>JP_Sales</th>\n",
              "      <th>Other_Sales</th>\n",
              "    </tr>\n",
              "  </thead>\n",
              "  <tbody>\n",
              "    <tr>\n",
              "      <th>0</th>\n",
              "      <td>1</td>\n",
              "      <td>Candace Kane's Candy Factory</td>\n",
              "      <td>DS</td>\n",
              "      <td>2008.0</td>\n",
              "      <td>Action</td>\n",
              "      <td>Destineer</td>\n",
              "      <td>0.04</td>\n",
              "      <td>0</td>\n",
              "      <td>0</td>\n",
              "      <td>0</td>\n",
              "    </tr>\n",
              "    <tr>\n",
              "      <th>1</th>\n",
              "      <td>2</td>\n",
              "      <td>The Munchables</td>\n",
              "      <td>Wii</td>\n",
              "      <td>2009.0</td>\n",
              "      <td>Action</td>\n",
              "      <td>Namco Bandai Games</td>\n",
              "      <td>0.17</td>\n",
              "      <td>0</td>\n",
              "      <td>0</td>\n",
              "      <td>0.01</td>\n",
              "    </tr>\n",
              "    <tr>\n",
              "      <th>2</th>\n",
              "      <td>3</td>\n",
              "      <td>Otome wa Oanesama Boku ni Koi Shiteru Portable</td>\n",
              "      <td>PSP</td>\n",
              "      <td>2010.0</td>\n",
              "      <td>Adventure</td>\n",
              "      <td>Alchemist</td>\n",
              "      <td>0</td>\n",
              "      <td>0</td>\n",
              "      <td>0.02</td>\n",
              "      <td>0</td>\n",
              "    </tr>\n",
              "    <tr>\n",
              "      <th>3</th>\n",
              "      <td>4</td>\n",
              "      <td>Deal or No Deal: Special Edition</td>\n",
              "      <td>DS</td>\n",
              "      <td>2010.0</td>\n",
              "      <td>Misc</td>\n",
              "      <td>Zoo Games</td>\n",
              "      <td>0.04</td>\n",
              "      <td>0</td>\n",
              "      <td>0</td>\n",
              "      <td>0</td>\n",
              "    </tr>\n",
              "    <tr>\n",
              "      <th>4</th>\n",
              "      <td>5</td>\n",
              "      <td>Ben 10 Ultimate Alien: Cosmic Destruction</td>\n",
              "      <td>PS3</td>\n",
              "      <td>2010.0</td>\n",
              "      <td>Platform</td>\n",
              "      <td>D3Publisher</td>\n",
              "      <td>0.12</td>\n",
              "      <td>0.09</td>\n",
              "      <td>0</td>\n",
              "      <td>0.04</td>\n",
              "    </tr>\n",
              "    <tr>\n",
              "      <th>...</th>\n",
              "      <td>...</td>\n",
              "      <td>...</td>\n",
              "      <td>...</td>\n",
              "      <td>...</td>\n",
              "      <td>...</td>\n",
              "      <td>...</td>\n",
              "      <td>...</td>\n",
              "      <td>...</td>\n",
              "      <td>...</td>\n",
              "      <td>...</td>\n",
              "    </tr>\n",
              "    <tr>\n",
              "      <th>16593</th>\n",
              "      <td>16594</td>\n",
              "      <td>Ice Age 2: The Meltdown</td>\n",
              "      <td>GC</td>\n",
              "      <td>2006.0</td>\n",
              "      <td>Platform</td>\n",
              "      <td>Vivendi Games</td>\n",
              "      <td>0.15</td>\n",
              "      <td>0.04</td>\n",
              "      <td>0</td>\n",
              "      <td>0.01</td>\n",
              "    </tr>\n",
              "    <tr>\n",
              "      <th>16594</th>\n",
              "      <td>16595</td>\n",
              "      <td>Rainbow Islands: Revolution</td>\n",
              "      <td>PSP</td>\n",
              "      <td>2005.0</td>\n",
              "      <td>Action</td>\n",
              "      <td>Rising Star Games</td>\n",
              "      <td>0.01</td>\n",
              "      <td>0</td>\n",
              "      <td>0</td>\n",
              "      <td>0</td>\n",
              "    </tr>\n",
              "    <tr>\n",
              "      <th>16595</th>\n",
              "      <td>16596</td>\n",
              "      <td>NBA 2K16</td>\n",
              "      <td>PS3</td>\n",
              "      <td>2015.0</td>\n",
              "      <td>Sports</td>\n",
              "      <td>Take-Two Interactive</td>\n",
              "      <td>0.44</td>\n",
              "      <td>0.19</td>\n",
              "      <td>0.03</td>\n",
              "      <td>0.13</td>\n",
              "    </tr>\n",
              "    <tr>\n",
              "      <th>16596</th>\n",
              "      <td>16597</td>\n",
              "      <td>Toukiden: The Age of Demons</td>\n",
              "      <td>PSV</td>\n",
              "      <td>2013.0</td>\n",
              "      <td>Action</td>\n",
              "      <td>Tecmo Koei</td>\n",
              "      <td>0.05</td>\n",
              "      <td>0.05</td>\n",
              "      <td>0.25</td>\n",
              "      <td>0.03</td>\n",
              "    </tr>\n",
              "    <tr>\n",
              "      <th>16597</th>\n",
              "      <td>16598</td>\n",
              "      <td>The King of Fighters '95</td>\n",
              "      <td>PS</td>\n",
              "      <td>1996.0</td>\n",
              "      <td>Fighting</td>\n",
              "      <td>Sony Computer Entertainment</td>\n",
              "      <td>0</td>\n",
              "      <td>0</td>\n",
              "      <td>0.16</td>\n",
              "      <td>0.01</td>\n",
              "    </tr>\n",
              "  </tbody>\n",
              "</table>\n",
              "<p>16598 rows × 10 columns</p>\n",
              "</div>"
            ],
            "text/plain": [
              "       Unnamed: 0  ... Other_Sales\n",
              "0               1  ...           0\n",
              "1               2  ...        0.01\n",
              "2               3  ...           0\n",
              "3               4  ...           0\n",
              "4               5  ...        0.04\n",
              "...           ...  ...         ...\n",
              "16593       16594  ...        0.01\n",
              "16594       16595  ...           0\n",
              "16595       16596  ...        0.13\n",
              "16596       16597  ...        0.03\n",
              "16597       16598  ...        0.01\n",
              "\n",
              "[16598 rows x 10 columns]"
            ]
          },
          "metadata": {},
          "execution_count": 4
        }
      ]
    },
    {
      "cell_type": "code",
      "metadata": {
        "id": "zamA75Jmsp78"
      },
      "source": [
        "# 현재 주어진 표에서, 게임 이름이나 게임 출판사와 출고량간에 관계가 있는지는 '다음 분기 게임 설계'를 위한 분석을 할 때는 별 필요가 없다고 판단됩니다.\n",
        "# (EA 등의 소위 덩치가 큰 출판사가 당연히 더 많은 게임을 출고했겠으나, 게임을 만드는 입장에선 딱히 쓸모가 없는 정보입니다.)\n",
        "# unamed:0와 사용하지 않을 게임 이름(name)과 출판사(publisher) column을 제거합니다\n",
        "game_data = game_data.drop(['Unnamed: 0','Name','Publisher'], axis = 1)"
      ],
      "execution_count": 5,
      "outputs": []
    },
    {
      "cell_type": "code",
      "metadata": {
        "colab": {
          "base_uri": "https://localhost:8080/",
          "height": 423
        },
        "id": "Sb4aF_lftMN5",
        "outputId": "185bd29b-1701-4871-e40a-c4c798abb035"
      },
      "source": [
        "game_data"
      ],
      "execution_count": 6,
      "outputs": [
        {
          "output_type": "execute_result",
          "data": {
            "text/html": [
              "<div>\n",
              "<style scoped>\n",
              "    .dataframe tbody tr th:only-of-type {\n",
              "        vertical-align: middle;\n",
              "    }\n",
              "\n",
              "    .dataframe tbody tr th {\n",
              "        vertical-align: top;\n",
              "    }\n",
              "\n",
              "    .dataframe thead th {\n",
              "        text-align: right;\n",
              "    }\n",
              "</style>\n",
              "<table border=\"1\" class=\"dataframe\">\n",
              "  <thead>\n",
              "    <tr style=\"text-align: right;\">\n",
              "      <th></th>\n",
              "      <th>Platform</th>\n",
              "      <th>Year</th>\n",
              "      <th>Genre</th>\n",
              "      <th>NA_Sales</th>\n",
              "      <th>EU_Sales</th>\n",
              "      <th>JP_Sales</th>\n",
              "      <th>Other_Sales</th>\n",
              "    </tr>\n",
              "  </thead>\n",
              "  <tbody>\n",
              "    <tr>\n",
              "      <th>0</th>\n",
              "      <td>DS</td>\n",
              "      <td>2008.0</td>\n",
              "      <td>Action</td>\n",
              "      <td>0.04</td>\n",
              "      <td>0</td>\n",
              "      <td>0</td>\n",
              "      <td>0</td>\n",
              "    </tr>\n",
              "    <tr>\n",
              "      <th>1</th>\n",
              "      <td>Wii</td>\n",
              "      <td>2009.0</td>\n",
              "      <td>Action</td>\n",
              "      <td>0.17</td>\n",
              "      <td>0</td>\n",
              "      <td>0</td>\n",
              "      <td>0.01</td>\n",
              "    </tr>\n",
              "    <tr>\n",
              "      <th>2</th>\n",
              "      <td>PSP</td>\n",
              "      <td>2010.0</td>\n",
              "      <td>Adventure</td>\n",
              "      <td>0</td>\n",
              "      <td>0</td>\n",
              "      <td>0.02</td>\n",
              "      <td>0</td>\n",
              "    </tr>\n",
              "    <tr>\n",
              "      <th>3</th>\n",
              "      <td>DS</td>\n",
              "      <td>2010.0</td>\n",
              "      <td>Misc</td>\n",
              "      <td>0.04</td>\n",
              "      <td>0</td>\n",
              "      <td>0</td>\n",
              "      <td>0</td>\n",
              "    </tr>\n",
              "    <tr>\n",
              "      <th>4</th>\n",
              "      <td>PS3</td>\n",
              "      <td>2010.0</td>\n",
              "      <td>Platform</td>\n",
              "      <td>0.12</td>\n",
              "      <td>0.09</td>\n",
              "      <td>0</td>\n",
              "      <td>0.04</td>\n",
              "    </tr>\n",
              "    <tr>\n",
              "      <th>...</th>\n",
              "      <td>...</td>\n",
              "      <td>...</td>\n",
              "      <td>...</td>\n",
              "      <td>...</td>\n",
              "      <td>...</td>\n",
              "      <td>...</td>\n",
              "      <td>...</td>\n",
              "    </tr>\n",
              "    <tr>\n",
              "      <th>16593</th>\n",
              "      <td>GC</td>\n",
              "      <td>2006.0</td>\n",
              "      <td>Platform</td>\n",
              "      <td>0.15</td>\n",
              "      <td>0.04</td>\n",
              "      <td>0</td>\n",
              "      <td>0.01</td>\n",
              "    </tr>\n",
              "    <tr>\n",
              "      <th>16594</th>\n",
              "      <td>PSP</td>\n",
              "      <td>2005.0</td>\n",
              "      <td>Action</td>\n",
              "      <td>0.01</td>\n",
              "      <td>0</td>\n",
              "      <td>0</td>\n",
              "      <td>0</td>\n",
              "    </tr>\n",
              "    <tr>\n",
              "      <th>16595</th>\n",
              "      <td>PS3</td>\n",
              "      <td>2015.0</td>\n",
              "      <td>Sports</td>\n",
              "      <td>0.44</td>\n",
              "      <td>0.19</td>\n",
              "      <td>0.03</td>\n",
              "      <td>0.13</td>\n",
              "    </tr>\n",
              "    <tr>\n",
              "      <th>16596</th>\n",
              "      <td>PSV</td>\n",
              "      <td>2013.0</td>\n",
              "      <td>Action</td>\n",
              "      <td>0.05</td>\n",
              "      <td>0.05</td>\n",
              "      <td>0.25</td>\n",
              "      <td>0.03</td>\n",
              "    </tr>\n",
              "    <tr>\n",
              "      <th>16597</th>\n",
              "      <td>PS</td>\n",
              "      <td>1996.0</td>\n",
              "      <td>Fighting</td>\n",
              "      <td>0</td>\n",
              "      <td>0</td>\n",
              "      <td>0.16</td>\n",
              "      <td>0.01</td>\n",
              "    </tr>\n",
              "  </tbody>\n",
              "</table>\n",
              "<p>16598 rows × 7 columns</p>\n",
              "</div>"
            ],
            "text/plain": [
              "      Platform    Year      Genre NA_Sales EU_Sales JP_Sales Other_Sales\n",
              "0           DS  2008.0     Action     0.04        0        0           0\n",
              "1          Wii  2009.0     Action     0.17        0        0        0.01\n",
              "2          PSP  2010.0  Adventure        0        0     0.02           0\n",
              "3           DS  2010.0       Misc     0.04        0        0           0\n",
              "4          PS3  2010.0   Platform     0.12     0.09        0        0.04\n",
              "...        ...     ...        ...      ...      ...      ...         ...\n",
              "16593       GC  2006.0   Platform     0.15     0.04        0        0.01\n",
              "16594      PSP  2005.0     Action     0.01        0        0           0\n",
              "16595      PS3  2015.0     Sports     0.44     0.19     0.03        0.13\n",
              "16596      PSV  2013.0     Action     0.05     0.05     0.25        0.03\n",
              "16597       PS  1996.0   Fighting        0        0     0.16        0.01\n",
              "\n",
              "[16598 rows x 7 columns]"
            ]
          },
          "metadata": {},
          "execution_count": 6
        }
      ]
    },
    {
      "cell_type": "code",
      "metadata": {
        "id": "0jXlIAMwtnM4"
      },
      "source": [
        "# Sales 항목의 수를 M(백만) 단위로 맞추기 : 여러 게임 관련 기사를 볼 때, 출고량의 기본 단위는 M이며 단위가 누락된 게임들도 M 단위 출고량에 더 가까운 것으로 보입니다.\n",
        "# (단위 없는 판매량 중 1985 슈퍼마리오의 출고량이 41.49인데, 가디언지 온라인 기사에서 4000만장(40M) 팔렸단 기사로 볼때 M으로 계산 가능할 것으로 생각됨)\n",
        "# https://www.theguardian.com/technology/gamesblog/2010/sep/13/games-gameculture, 10번항목\n",
        "# 결론 : 단위 없으면 M으로 계산, K 단위는 M으로 변환합니다."
      ],
      "execution_count": 7,
      "outputs": []
    },
    {
      "cell_type": "code",
      "metadata": {
        "id": "oeG3Qt3ASOqy"
      },
      "source": [
        "# M단위 통일을 위해 M단위는 문자만 없애고, K단위 발견시 K는 없애고 0.001을 곱합니다.\n",
        "game_data.NA_Sales = (game_data.NA_Sales.replace(r'[KM]+$', '', regex=True).astype(float)*\n",
        "                      game_data.NA_Sales.str.extract(r'[\\d\\.]+([KM]+)', expand=False).fillna(1).replace(['K','M'], [0.001, 1]).astype(float))\n",
        "game_data.EU_Sales = (game_data.EU_Sales.replace(r'[KM]+$', '', regex=True).astype(float)*\n",
        "                      game_data.EU_Sales.str.extract(r'[\\d\\.]+([KM]+)', expand=False).fillna(1).replace(['K','M'], [0.001, 1]).astype(float))\n",
        "game_data.JP_Sales = (game_data.JP_Sales.replace(r'[KM]+$', '', regex=True).astype(float)*\n",
        "                      game_data.JP_Sales.str.extract(r'[\\d\\.]+([KM]+)', expand=False).fillna(1).replace(['K','M'], [0.001, 1]).astype(float))\n",
        "game_data.Other_Sales = (game_data.Other_Sales.replace(r'[KM]+$', '', regex=True).astype(float)*\n",
        "                         game_data.Other_Sales.str.extract(r'[\\d\\.]+([KM]+)', expand=False).fillna(1).replace(['K','M'], [0.001, 1]).astype(float))"
      ],
      "execution_count": 8,
      "outputs": []
    },
    {
      "cell_type": "code",
      "metadata": {
        "colab": {
          "base_uri": "https://localhost:8080/",
          "height": 423
        },
        "id": "WPEt7EdoSOlm",
        "outputId": "6d48939b-382a-4928-ec31-066d02bd1809"
      },
      "source": [
        "game_data"
      ],
      "execution_count": 29,
      "outputs": [
        {
          "output_type": "execute_result",
          "data": {
            "text/html": [
              "<div>\n",
              "<style scoped>\n",
              "    .dataframe tbody tr th:only-of-type {\n",
              "        vertical-align: middle;\n",
              "    }\n",
              "\n",
              "    .dataframe tbody tr th {\n",
              "        vertical-align: top;\n",
              "    }\n",
              "\n",
              "    .dataframe thead th {\n",
              "        text-align: right;\n",
              "    }\n",
              "</style>\n",
              "<table border=\"1\" class=\"dataframe\">\n",
              "  <thead>\n",
              "    <tr style=\"text-align: right;\">\n",
              "      <th></th>\n",
              "      <th>Platform</th>\n",
              "      <th>Year</th>\n",
              "      <th>Genre</th>\n",
              "      <th>NA_Sales</th>\n",
              "      <th>EU_Sales</th>\n",
              "      <th>JP_Sales</th>\n",
              "      <th>Other_Sales</th>\n",
              "    </tr>\n",
              "  </thead>\n",
              "  <tbody>\n",
              "    <tr>\n",
              "      <th>0</th>\n",
              "      <td>DS</td>\n",
              "      <td>2008.0</td>\n",
              "      <td>Action</td>\n",
              "      <td>0.04</td>\n",
              "      <td>0.00</td>\n",
              "      <td>0.00</td>\n",
              "      <td>0.00</td>\n",
              "    </tr>\n",
              "    <tr>\n",
              "      <th>1</th>\n",
              "      <td>Wii</td>\n",
              "      <td>2009.0</td>\n",
              "      <td>Action</td>\n",
              "      <td>0.17</td>\n",
              "      <td>0.00</td>\n",
              "      <td>0.00</td>\n",
              "      <td>0.01</td>\n",
              "    </tr>\n",
              "    <tr>\n",
              "      <th>2</th>\n",
              "      <td>PSP</td>\n",
              "      <td>2010.0</td>\n",
              "      <td>Adventure</td>\n",
              "      <td>0.00</td>\n",
              "      <td>0.00</td>\n",
              "      <td>0.02</td>\n",
              "      <td>0.00</td>\n",
              "    </tr>\n",
              "    <tr>\n",
              "      <th>3</th>\n",
              "      <td>DS</td>\n",
              "      <td>2010.0</td>\n",
              "      <td>Misc</td>\n",
              "      <td>0.04</td>\n",
              "      <td>0.00</td>\n",
              "      <td>0.00</td>\n",
              "      <td>0.00</td>\n",
              "    </tr>\n",
              "    <tr>\n",
              "      <th>4</th>\n",
              "      <td>PS3</td>\n",
              "      <td>2010.0</td>\n",
              "      <td>Platform</td>\n",
              "      <td>0.12</td>\n",
              "      <td>0.09</td>\n",
              "      <td>0.00</td>\n",
              "      <td>0.04</td>\n",
              "    </tr>\n",
              "    <tr>\n",
              "      <th>...</th>\n",
              "      <td>...</td>\n",
              "      <td>...</td>\n",
              "      <td>...</td>\n",
              "      <td>...</td>\n",
              "      <td>...</td>\n",
              "      <td>...</td>\n",
              "      <td>...</td>\n",
              "    </tr>\n",
              "    <tr>\n",
              "      <th>16593</th>\n",
              "      <td>GC</td>\n",
              "      <td>2006.0</td>\n",
              "      <td>Platform</td>\n",
              "      <td>0.15</td>\n",
              "      <td>0.04</td>\n",
              "      <td>0.00</td>\n",
              "      <td>0.01</td>\n",
              "    </tr>\n",
              "    <tr>\n",
              "      <th>16594</th>\n",
              "      <td>PSP</td>\n",
              "      <td>2005.0</td>\n",
              "      <td>Action</td>\n",
              "      <td>0.01</td>\n",
              "      <td>0.00</td>\n",
              "      <td>0.00</td>\n",
              "      <td>0.00</td>\n",
              "    </tr>\n",
              "    <tr>\n",
              "      <th>16595</th>\n",
              "      <td>PS3</td>\n",
              "      <td>2015.0</td>\n",
              "      <td>Sports</td>\n",
              "      <td>0.44</td>\n",
              "      <td>0.19</td>\n",
              "      <td>0.03</td>\n",
              "      <td>0.13</td>\n",
              "    </tr>\n",
              "    <tr>\n",
              "      <th>16596</th>\n",
              "      <td>PSV</td>\n",
              "      <td>2013.0</td>\n",
              "      <td>Action</td>\n",
              "      <td>0.05</td>\n",
              "      <td>0.05</td>\n",
              "      <td>0.25</td>\n",
              "      <td>0.03</td>\n",
              "    </tr>\n",
              "    <tr>\n",
              "      <th>16597</th>\n",
              "      <td>PS</td>\n",
              "      <td>1996.0</td>\n",
              "      <td>Fighting</td>\n",
              "      <td>0.00</td>\n",
              "      <td>0.00</td>\n",
              "      <td>0.16</td>\n",
              "      <td>0.01</td>\n",
              "    </tr>\n",
              "  </tbody>\n",
              "</table>\n",
              "<p>16598 rows × 7 columns</p>\n",
              "</div>"
            ],
            "text/plain": [
              "      Platform    Year      Genre  NA_Sales  EU_Sales  JP_Sales  Other_Sales\n",
              "0           DS  2008.0     Action      0.04      0.00      0.00         0.00\n",
              "1          Wii  2009.0     Action      0.17      0.00      0.00         0.01\n",
              "2          PSP  2010.0  Adventure      0.00      0.00      0.02         0.00\n",
              "3           DS  2010.0       Misc      0.04      0.00      0.00         0.00\n",
              "4          PS3  2010.0   Platform      0.12      0.09      0.00         0.04\n",
              "...        ...     ...        ...       ...       ...       ...          ...\n",
              "16593       GC  2006.0   Platform      0.15      0.04      0.00         0.01\n",
              "16594      PSP  2005.0     Action      0.01      0.00      0.00         0.00\n",
              "16595      PS3  2015.0     Sports      0.44      0.19      0.03         0.13\n",
              "16596      PSV  2013.0     Action      0.05      0.05      0.25         0.03\n",
              "16597       PS  1996.0   Fighting      0.00      0.00      0.16         0.01\n",
              "\n",
              "[16598 rows x 7 columns]"
            ]
          },
          "metadata": {},
          "execution_count": 29
        }
      ]
    },
    {
      "cell_type": "markdown",
      "metadata": {
        "id": "SekQ6cK_uY65"
      },
      "source": [
        "2. 항목분석"
      ]
    },
    {
      "cell_type": "markdown",
      "metadata": {
        "id": "BG0O5saMfIkV"
      },
      "source": [
        "(1) 지역별 선호 게임 장르"
      ]
    },
    {
      "cell_type": "code",
      "metadata": {
        "id": "f1TdCamOfOGb"
      },
      "source": [
        "# 장르 항목의 중복을 제거하고 몇종류가 있는지를 파악하고, 각 장르마다 각 지역에서 얼마나 출고되었는지를 확인합니다."
      ],
      "execution_count": 10,
      "outputs": []
    },
    {
      "cell_type": "code",
      "metadata": {
        "colab": {
          "base_uri": "https://localhost:8080/"
        },
        "id": "ohRnpIl3E5ee",
        "outputId": "ac6d6621-4e23-40df-fbc7-f21b5432aca8"
      },
      "source": [
        "# 중복되지 않는 장르 목록을 확인합니다.\n",
        "print(game_data['Genre'].unique())"
      ],
      "execution_count": 11,
      "outputs": [
        {
          "output_type": "stream",
          "name": "stdout",
          "text": [
            "['Action' 'Adventure' 'Misc' 'Platform' 'Sports' 'Simulation' 'Racing'\n",
            " 'Role-Playing' 'Puzzle' 'Strategy' 'Fighting' 'Shooter' nan]\n"
          ]
        }
      ]
    },
    {
      "cell_type": "code",
      "metadata": {
        "colab": {
          "base_uri": "https://localhost:8080/"
        },
        "id": "htByCRpCh_D1",
        "outputId": "4e4b8894-a36d-479e-eadd-1993f8d9a117"
      },
      "source": [
        "# 장르 이름이 없어 생겨난 nan을 장르 목록에서 제거합니다.\n",
        "import numpy as np\n",
        "import math\n",
        "\n",
        "Genre_list = game_data['Genre'].unique()\n",
        "Genre_list = Genre_list.tolist()\n",
        "Genre_list.pop(12)\n",
        "Genre_list"
      ],
      "execution_count": 82,
      "outputs": [
        {
          "output_type": "execute_result",
          "data": {
            "text/plain": [
              "['Action',\n",
              " 'Adventure',\n",
              " 'Misc',\n",
              " 'Platform',\n",
              " 'Sports',\n",
              " 'Simulation',\n",
              " 'Racing',\n",
              " 'Role-Playing',\n",
              " 'Puzzle',\n",
              " 'Strategy',\n",
              " 'Fighting',\n",
              " 'Shooter']"
            ]
          },
          "metadata": {},
          "execution_count": 82
        }
      ]
    },
    {
      "cell_type": "code",
      "metadata": {
        "colab": {
          "base_uri": "https://localhost:8080/"
        },
        "id": "7Qulu8YrPFrr",
        "outputId": "1290a580-febc-4bea-a0cc-d87fcc8b3bc4"
      },
      "source": [
        "Year_list = game_data['Year'].unique()\n",
        "Year_list = Year_list.tolist()\n",
        "Year_list = sorted(Year_list)\n",
        "Year_list.pop(36)\n",
        "Year_list"
      ],
      "execution_count": 46,
      "outputs": [
        {
          "output_type": "execute_result",
          "data": {
            "text/plain": [
              "[1980.0,\n",
              " 1981.0,\n",
              " 1982.0,\n",
              " 1983.0,\n",
              " 1984.0,\n",
              " 1985.0,\n",
              " 1986.0,\n",
              " 1987.0,\n",
              " 1988.0,\n",
              " 1989.0,\n",
              " 1990.0,\n",
              " 1991.0,\n",
              " 1992.0,\n",
              " 1993.0,\n",
              " 1994.0,\n",
              " 1995.0,\n",
              " 1996.0,\n",
              " 1997.0,\n",
              " 1998.0,\n",
              " 1999.0,\n",
              " 2000.0,\n",
              " 2001.0,\n",
              " 2002.0,\n",
              " 2003.0,\n",
              " 2004.0,\n",
              " 2005.0,\n",
              " 2006.0,\n",
              " 2007.0,\n",
              " 2008.0,\n",
              " 2009.0,\n",
              " 2010.0,\n",
              " 2011.0,\n",
              " 2012.0,\n",
              " 2013.0,\n",
              " 2014.0,\n",
              " 2015.0,\n",
              " 2016.0,\n",
              " 2017.0,\n",
              " 2020.0]"
            ]
          },
          "metadata": {},
          "execution_count": 46
        }
      ]
    },
    {
      "cell_type": "code",
      "metadata": {
        "id": "jclWduJuXGgm"
      },
      "source": [
        "Region = ['NA','EU','JP','Other']"
      ],
      "execution_count": 47,
      "outputs": []
    },
    {
      "cell_type": "code",
      "metadata": {
        "id": "LfUBW8eWXTmT"
      },
      "source": [
        "# 각 장르별 출고량을 각 지역마다 합하여 계산하고, list에 저장합니다.\n",
        "NA_Genre_Sales = []\n",
        "for i in Genre_list:\n",
        "  i = game_data.loc[game_data['Genre'] == i, 'NA_Sales'].sum()\n",
        "  NA_Genre_Sales.append(i)\n",
        "\n",
        "EU_Genre_Sales = []\n",
        "for i in Genre_list:\n",
        "  i = game_data.loc[game_data['Genre'] == i, 'EU_Sales'].sum()\n",
        "  EU_Genre_Sales.append(i)\n",
        "\n",
        "JP_Genre_Sales = []\n",
        "for i in Genre_list:\n",
        "  i = game_data.loc[game_data['Genre'] == i, 'JP_Sales'].sum()\n",
        "  JP_Genre_Sales.append(i)\n",
        "\n",
        "Other_Genre_Sales = []\n",
        "for i in Genre_list:\n",
        "  i = game_data.loc[game_data['Genre'] == i, 'Other_Sales'].sum()\n",
        "  Other_Genre_Sales.append(i)"
      ],
      "execution_count": 145,
      "outputs": []
    },
    {
      "cell_type": "code",
      "metadata": {
        "id": "CcFEWWMEZZpk"
      },
      "source": [
        "# 바로 위에서 계산된 list들을 dataframe으로 만들어, 4개 지역에서 각 장르별 게임 출고량을 표로 보여줍니다.\n",
        "import pandas as pd\n",
        "genre_sales = pd.DataFrame([NA_Genre_Sales])\n",
        "genre_sales = genre_sales.append(genre_sales.iloc[-1], ignore_index=True)\n",
        "genre_sales.iloc[-1] = EU_Genre_Sales\n",
        "genre_sales = genre_sales.append(genre_sales.iloc[-1], ignore_index=True)\n",
        "genre_sales.iloc[-1] = JP_Genre_Sales\n",
        "genre_sales = genre_sales.append(genre_sales.iloc[-1], ignore_index=True)\n",
        "genre_sales.iloc[-1] = Other_Genre_Sales"
      ],
      "execution_count": 146,
      "outputs": []
    },
    {
      "cell_type": "code",
      "metadata": {
        "id": "U2cuxxfpb7ek"
      },
      "source": [
        "genre_sales.columns = Genre_list\n",
        "genre_sales['Region'] = Region\n",
        "genre_sales = genre_sales.set_index(['Region'])"
      ],
      "execution_count": 147,
      "outputs": []
    },
    {
      "cell_type": "code",
      "metadata": {
        "id": "VaDE7lexeRWU",
        "outputId": "85eaf642-5d78-4cee-d3ed-4d981cb009d1",
        "colab": {
          "base_uri": "https://localhost:8080/",
          "height": 206
        }
      },
      "source": [
        "genre_sales"
      ],
      "execution_count": 151,
      "outputs": [
        {
          "output_type": "execute_result",
          "data": {
            "text/html": [
              "<div>\n",
              "<style scoped>\n",
              "    .dataframe tbody tr th:only-of-type {\n",
              "        vertical-align: middle;\n",
              "    }\n",
              "\n",
              "    .dataframe tbody tr th {\n",
              "        vertical-align: top;\n",
              "    }\n",
              "\n",
              "    .dataframe thead th {\n",
              "        text-align: right;\n",
              "    }\n",
              "</style>\n",
              "<table border=\"1\" class=\"dataframe\">\n",
              "  <thead>\n",
              "    <tr style=\"text-align: right;\">\n",
              "      <th></th>\n",
              "      <th>Action</th>\n",
              "      <th>Adventure</th>\n",
              "      <th>Misc</th>\n",
              "      <th>Platform</th>\n",
              "      <th>Sports</th>\n",
              "      <th>Simulation</th>\n",
              "      <th>Racing</th>\n",
              "      <th>Role-Playing</th>\n",
              "      <th>Puzzle</th>\n",
              "      <th>Strategy</th>\n",
              "      <th>Fighting</th>\n",
              "      <th>Shooter</th>\n",
              "    </tr>\n",
              "    <tr>\n",
              "      <th>Region</th>\n",
              "      <th></th>\n",
              "      <th></th>\n",
              "      <th></th>\n",
              "      <th></th>\n",
              "      <th></th>\n",
              "      <th></th>\n",
              "      <th></th>\n",
              "      <th></th>\n",
              "      <th></th>\n",
              "      <th></th>\n",
              "      <th></th>\n",
              "      <th></th>\n",
              "    </tr>\n",
              "  </thead>\n",
              "  <tbody>\n",
              "    <tr>\n",
              "      <th>NA</th>\n",
              "      <td>874.81</td>\n",
              "      <td>105.66</td>\n",
              "      <td>408.05</td>\n",
              "      <td>446.44</td>\n",
              "      <td>680.52</td>\n",
              "      <td>182.96</td>\n",
              "      <td>357.19</td>\n",
              "      <td>319.54</td>\n",
              "      <td>123.35</td>\n",
              "      <td>68.70</td>\n",
              "      <td>223.20</td>\n",
              "      <td>581.92</td>\n",
              "    </tr>\n",
              "    <tr>\n",
              "      <th>EU</th>\n",
              "      <td>522.16</td>\n",
              "      <td>64.05</td>\n",
              "      <td>212.36</td>\n",
              "      <td>201.61</td>\n",
              "      <td>376.48</td>\n",
              "      <td>113.35</td>\n",
              "      <td>237.10</td>\n",
              "      <td>183.58</td>\n",
              "      <td>50.73</td>\n",
              "      <td>45.32</td>\n",
              "      <td>101.22</td>\n",
              "      <td>313.05</td>\n",
              "    </tr>\n",
              "    <tr>\n",
              "      <th>JP</th>\n",
              "      <td>157.90</td>\n",
              "      <td>51.95</td>\n",
              "      <td>105.27</td>\n",
              "      <td>130.65</td>\n",
              "      <td>135.37</td>\n",
              "      <td>63.70</td>\n",
              "      <td>56.40</td>\n",
              "      <td>344.95</td>\n",
              "      <td>56.87</td>\n",
              "      <td>49.46</td>\n",
              "      <td>87.34</td>\n",
              "      <td>38.28</td>\n",
              "    </tr>\n",
              "    <tr>\n",
              "      <th>Other</th>\n",
              "      <td>186.45</td>\n",
              "      <td>16.81</td>\n",
              "      <td>74.04</td>\n",
              "      <td>51.53</td>\n",
              "      <td>134.67</td>\n",
              "      <td>31.48</td>\n",
              "      <td>77.10</td>\n",
              "      <td>56.96</td>\n",
              "      <td>12.52</td>\n",
              "      <td>11.36</td>\n",
              "      <td>36.64</td>\n",
              "      <td>102.65</td>\n",
              "    </tr>\n",
              "  </tbody>\n",
              "</table>\n",
              "</div>"
            ],
            "text/plain": [
              "        Action  Adventure    Misc  ...  Strategy  Fighting  Shooter\n",
              "Region                             ...                             \n",
              "NA      874.81     105.66  408.05  ...     68.70    223.20   581.92\n",
              "EU      522.16      64.05  212.36  ...     45.32    101.22   313.05\n",
              "JP      157.90      51.95  105.27  ...     49.46     87.34    38.28\n",
              "Other   186.45      16.81   74.04  ...     11.36     36.64   102.65\n",
              "\n",
              "[4 rows x 12 columns]"
            ]
          },
          "metadata": {},
          "execution_count": 151
        }
      ]
    },
    {
      "cell_type": "code",
      "metadata": {
        "id": "pg1giRbBenOa",
        "outputId": "f1a6a307-a7dc-46aa-b4db-1c358a377ab6",
        "colab": {
          "base_uri": "https://localhost:8080/",
          "height": 639
        }
      },
      "source": [
        "# 위 데이터는 막대그래프로 보는게 제일 보기 쉬울것으로 보이므로, 막대그래프로 시각화 해 보겠습니다.\n",
        "import matplotlib.pyplot as plt\n",
        "genre_barplot = genre_sales.plot.bar(title=\"Game Sales per Genre by region\", rot=0, figsize=(10,10))\n",
        "print(genre_barplot)\n",
        "plt.show()"
      ],
      "execution_count": 155,
      "outputs": [
        {
          "output_type": "stream",
          "name": "stdout",
          "text": [
            "AxesSubplot(0.125,0.125;0.775x0.755)\n"
          ]
        },
        {
          "output_type": "display_data",
          "data": {
            "image/png": "[encoded data removed]",
            "text/plain": [
              "<Figure size 720x720 with 1 Axes>"
            ]
          },
          "metadata": {
            "needs_background": "light"
          }
        }
      ]
    },
    {
      "cell_type": "markdown",
      "metadata": {
        "id": "yMwr1r8hfTo4"
      },
      "source": [
        "그래프에서 볼 수 있듯, 일본(JP)을 제외하고 모든 지역에서는 액션 게임이 제일 출고량이 많으며, 그 뒤로는 스포츠 게임, 슈팅 게임의 출고량이 많습니다.\n",
        "\n",
        "일본의 경우, 롤플레잉 게임의 출고량이 1위이며, 그 뒤로 액션, 스포츠 게임의 출고량이 많습니다.\n",
        "\n",
        "이 결과만을 볼 때, 다음 분기 출시해야 할 게임 장르의 순위는\n",
        "1. 액션\n",
        "2. 스포츠\n",
        "3. 슈팅\n",
        "\n",
        "으로 생각할 수 있습니다."
      ]
    }
  ]
}